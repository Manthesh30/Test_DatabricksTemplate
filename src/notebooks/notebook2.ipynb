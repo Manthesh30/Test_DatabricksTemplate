{
 "cells": [
  {
   "cell_type": "code",
   "execution_count": 0,
   "metadata": {
    "application/vnd.databricks.v1+cell": {
     "cellMetadata": {
      "byteLimit": 2048000,
      "rowLimit": 10000
     },
     "inputWidgets": {},
     "nuid": "6129b8a4-cd2f-48a2-bcbb-7e178ec96fb3",
     "showTitle": false,
     "tableResultSettingsMap": {},
     "title": ""
    }
   },
   "outputs": [],
   "source": [
    "dbutils.widgets.text(\"value1\", \"0\", \"Enter first integer\")\n",
    "dbutils.widgets.text(\"value2\", \"0\", \"Enter second integer\")\n",
    "dbutils.widgets.text(\"env\", \"dev\", \"Enter environment\")\n",
    "\n",
    "value1 = int(dbutils.widgets.get(\"value1\"))\n",
    "value2 = int(dbutils.widgets.get(\"value2\"))\n",
    "env = dbutils.widgets.get(\"env\")"
   ]
  },
  {
   "cell_type": "code",
   "execution_count": 0,
   "metadata": {
    "application/vnd.databricks.v1+cell": {
     "cellMetadata": {
      "byteLimit": 2048000,
      "rowLimit": 10000
     },
     "inputWidgets": {},
     "nuid": "4e56165c-4341-43b7-a53d-df5a463d982a",
     "showTitle": false,
     "tableResultSettingsMap": {},
     "title": ""
    }
   },
   "outputs": [],
   "source": [
    "repo_path = '/'.join(\n",
    "    dbutils.notebook.entry_point.getDbutils().notebook().getContext().notebookPath().get()\n",
    "    .split('/')[:-2]\n",
    ")\n",
    "workspace_path = f\"/Workspace/{repo_path.strip('/')}\"\n",
    "import sys\n",
    "print(f\"Repo path: {workspace_path}\")  # Verify the path\n",
    "sys.path.append(workspace_path)\n",
    "\n",
    "from logics.core.lif import mul"
   ]
  },
  {
   "cell_type": "code",
   "execution_count": 0,
   "metadata": {
    "application/vnd.databricks.v1+cell": {
     "cellMetadata": {
      "byteLimit": 2048000,
      "rowLimit": 10000
     },
     "inputWidgets": {},
     "nuid": "c032a596-c156-45b2-a862-2fdb32f2be4a",
     "showTitle": false,
     "tableResultSettingsMap": {},
     "title": ""
    }
   },
   "outputs": [],
   "source": [
    "import json\n",
    "\n",
    "with open(f\"{workspace_path}/config/{env}.json\", \"r\") as file:\n",
    "    config = json.load(file)\n",
    "\n",
    "json_value = config.get(\"storage_account\") \n",
    "\n",
    "print(json_value)"
   ]
  },
  {
   "cell_type": "code",
   "execution_count": 0,
   "metadata": {
    "application/vnd.databricks.v1+cell": {
     "cellMetadata": {
      "byteLimit": 2048000,
      "rowLimit": 10000
     },
     "inputWidgets": {},
     "nuid": "ef6d0135-2a59-4c7e-8e80-d16137dc3ad4",
     "showTitle": false,
     "tableResultSettingsMap": {},
     "title": ""
    }
   },
   "outputs": [],
   "source": [
    "\n",
    "print(mul(value1, value2))"
   ]
  }
 ],
 "metadata": {
  "application/vnd.databricks.v1+notebook": {
   "computePreferences": null,
   "dashboards": [],
   "environmentMetadata": {
    "base_environment": "",
    "environment_version": "2"
   },
   "inputWidgetPreferences": null,
   "language": "python",
   "notebookMetadata": {
    "pythonIndentUnit": 4
   },
   "notebookName": "notebook2",
   "widgets": {
    "env": {
     "currentValue": "dev",
     "nuid": "9b00a2af-81bc-4b7b-bd4c-8a497456493e",
     "typedWidgetInfo": {
      "autoCreated": false,
      "defaultValue": "dev",
      "label": "Enter environment",
      "name": "env",
      "options": {
       "widgetDisplayType": "Text",
       "validationRegex": null
      },
      "parameterDataType": "String"
     },
     "widgetInfo": {
      "widgetType": "text",
      "defaultValue": "dev",
      "label": "Enter environment",
      "name": "env",
      "options": {
       "widgetType": "text",
       "autoCreated": null,
       "validationRegex": null
      }
     }
    },
    "value1": {
     "currentValue": "0",
     "nuid": "069c5835-471b-4db6-89de-3b43aa78cfcc",
     "typedWidgetInfo": {
      "autoCreated": false,
      "defaultValue": "0",
      "label": "Enter first integer",
      "name": "value1",
      "options": {
       "widgetDisplayType": "Text",
       "validationRegex": null
      },
      "parameterDataType": "String"
     },
     "widgetInfo": {
      "widgetType": "text",
      "defaultValue": "0",
      "label": "Enter first integer",
      "name": "value1",
      "options": {
       "widgetType": "text",
       "autoCreated": null,
       "validationRegex": null
      }
     }
    },
    "value2": {
     "currentValue": "0",
     "nuid": "e25ac722-74df-41e4-927d-3c9196070acd",
     "typedWidgetInfo": {
      "autoCreated": false,
      "defaultValue": "0",
      "label": "Enter second integer",
      "name": "value2",
      "options": {
       "widgetDisplayType": "Text",
       "validationRegex": null
      },
      "parameterDataType": "String"
     },
     "widgetInfo": {
      "widgetType": "text",
      "defaultValue": "0",
      "label": "Enter second integer",
      "name": "value2",
      "options": {
       "widgetType": "text",
       "autoCreated": null,
       "validationRegex": null
      }
     }
    }
   }
  },
  "language_info": {
   "name": "python"
  }
 },
 "nbformat": 4,
 "nbformat_minor": 0
}
